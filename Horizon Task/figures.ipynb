{
 "cells": [
  {
   "cell_type": "code",
   "execution_count": null,
   "metadata": {},
   "outputs": [],
   "source": [
    "import matplotlib.pyplot as plt\n",
    "import matplotlib as mpl"
   ]
  },
  {
   "cell_type": "code",
   "execution_count": null,
   "metadata": {},
   "outputs": [],
   "source": [
    "import glob\n",
    "import pandas as pd\n",
    "import numpy as np\n",
    "import statsmodels.api as sm\n",
    "import seaborn as sns\n",
    "import math\n",
    "from matplotlib.lines import Line2D\n",
    "from scipy import stats\n",
    "\n"
   ]
  },
  {
   "cell_type": "code",
   "execution_count": null,
   "metadata": {},
   "outputs": [],
   "source": [
    "# Edit the font, font size, and axes width\n",
    "plt.rcParams['font.size'] = 10\n",
    "plt.rcParams['axes.linewidth'] = 1\n",
    "plt.rcParams[\"figure.autolayout\"] = True"
   ]
  },
  {
   "cell_type": "code",
   "execution_count": null,
   "metadata": {},
   "outputs": [],
   "source": [
    "# human regret\n",
    "df = pd.read_csv('human_data/data.csv')\n",
    "df_h1 = df[(df.Trial == 5) & (df.Horizon==5)]\n",
    "r_max = df_h1[[\"mu_L\", \"mu_R\"]].max(axis=1)\n",
    "r_obs = df_h1.Outcome\n",
    "human_regrets_h1 = (r_max - r_obs).to_numpy()\n",
    "human_regrets_h6 = []\n",
    "for i in range(5, 11):\n",
    "    df_h6 = df[(df.Trial == i) & (df.Horizon==10)]\n",
    "    r_max = df_h6[[\"mu_L\", \"mu_R\"]].max(axis=1)\n",
    "    r_obs = df_h6.Outcome\n",
    "    human_regrets_h6.append((r_max - r_obs).to_numpy())\n",
    "\n",
    "human_regrets_h6 = np.array(human_regrets_h6).T\n",
    "print(human_regrets_h6.shape)\n",
    "print(human_regrets_h6.mean(0))\n",
    "human_data = {'human_regrets_h1':human_regrets_h1, \"human_regrets_h6\":human_regrets_h6}"
   ]
  },
  {
   "cell_type": "code",
   "execution_count": null,
   "metadata": {},
   "outputs": [],
   "source": [
    "def get_data(path):\n",
    "    num_h1 = 0\n",
    "    num_h6 = 0\n",
    "\n",
    "    files = glob.glob(path)\n",
    "\n",
    "    for file in files:\n",
    "        df = pd.read_csv(file)\n",
    "        if len(df) == 5:\n",
    "            num_h1 += 1\n",
    "        elif len(df) == 10:\n",
    "            num_h6 += 1\n",
    "\n",
    "    regrets_h1 = np.zeros((num_h1, 1))\n",
    "    regrets_h6 = np.zeros((num_h6, 6))\n",
    "    random_regrets_h6 = np.zeros((num_h6, 6))\n",
    "\n",
    "    print(num_h1)\n",
    "    print(num_h6)\n",
    "\n",
    "    counter_h1 = 0\n",
    "    counter_h6 = 0\n",
    "\n",
    "    for file in files:\n",
    "        df = pd.read_csv(file)\n",
    "        for t in range(4, df.trial.max() + 1):\n",
    "            max_reward = np.max((df[df.trial == t].mean0, df[df.trial == t].mean1))\n",
    "            gpt_reward = df[df.trial == t].mean0 if int(df[df.trial == t].choice) == 0 else df[df.trial == t].mean1\n",
    "            regret = (max_reward - gpt_reward)\n",
    "            random_reward = 0.5 * df[df.trial == t].mean0 + 0.5 * df[df.trial == t].mean1\n",
    "            random_regret = (max_reward - random_reward)\n",
    "            if len(df) == 5:\n",
    "                regrets_h1[counter_h1, t-4] = regret\n",
    "                counter_h1 += 1\n",
    "            elif len(df) == 10:\n",
    "                regrets_h6[counter_h6, t-4] = regret\n",
    "                random_regrets_h6[counter_h6, t-4] = random_regret\n",
    "                if t == df.trial.max():\n",
    "                    counter_h6 += 1\n",
    "    print(regrets_h6.shape)\n",
    "    print(regrets_h6.mean(0))\n",
    "    print(random_regrets_h6.shape)\n",
    "    print(random_regrets_h6.mean(0))\n",
    "    results =  {\"random_regrets_h6\":random_regrets_h6, \"regrets_h1\":regrets_h1, \"regrets_h6\":regrets_h6}\n",
    "\n",
    "    return results"
   ]
  },
  {
   "cell_type": "code",
   "execution_count": null,
   "metadata": {},
   "outputs": [],
   "source": [
    "palette = {\n",
    "    1 : \"#ff7f00\", # 'orange'\n",
    "    2 : \"#377eb8\", # 'blue'\n",
    "    3 : \"#4daf4a\", # 'green'\n",
    "    4 : \"#f781bf\", # 'pink'\n",
    "    5 : \"#dede00\" # 'yellow'\n",
    "}"
   ]
  },
  {
   "cell_type": "code",
   "execution_count": null,
   "metadata": {},
   "outputs": [],
   "source": [
    "temp_custom_lines = [Line2D([0], [0], color='black', marker='s', linestyle='None'),\n",
    "    Line2D([0], [0], color='black', linestyle='--'),\n",
    "    Line2D([0], [0], color='black',  linestyle='-'), # human black\n",
    "    Line2D([0], [0], color=palette[1], linestyle='-'), # line 1 \n",
    "    Line2D([0], [0], color=palette[2], linestyle='-'), # line 2\n",
    "    Line2D([0], [0], color=palette[3], linestyle='-')] # line 3"
   ]
  },
  {
   "cell_type": "code",
   "execution_count": null,
   "metadata": {},
   "outputs": [],
   "source": [
    "# davinci-002\n",
    "# sample path -- text-davinci-002/.../e*\n",
    "d1 = get_data(\"PATH TO FILES WITH TEMP 0.0\")\n",
    "d2 = get_data(\"PATH TO FILES WITH TEMP 0.5\")\n",
    "d3 = get_data(\"PATH TO FILES WITH TEMP 1.0\")"
   ]
  },
  {
   "cell_type": "code",
   "execution_count": null,
   "metadata": {},
   "outputs": [],
   "source": [
    "def plot_data_multi(d1, d2, d3 ,h,temp_custom_lines):\n",
    "    plt.rcParams[\"figure.figsize\"] = (3.46327,3.7)\n",
    "    custom_lines = temp_custom_lines\n",
    "    random_regrets_h6 = d1['random_regrets_h6']\n",
    "    human_regrets_h1 = h['human_regrets_h1']\n",
    "    human_regrets_h6 = h['human_regrets_h6']\n",
    "    plt.axhline(y=random_regrets_h6.mean(), color='C3', linestyle='--', alpha=0.7)\n",
    "    \n",
    "    plt.scatter(np.arange(1) + 1 -0.1, d1['regrets_h1'].mean(0), alpha=0.7,  marker='s', color=palette[1])\n",
    "    plt.errorbar(np.arange(1) + 1-0.1, d1['regrets_h1'].mean(0), alpha=0.7, yerr=(d1['regrets_h1'].mean(0) / math.sqrt(d1['regrets_h1'].shape[0])), color=palette[1])\n",
    "    plt.errorbar(np.arange(6) + 1-0.1, d1['regrets_h6'].mean(0), alpha=0.7, yerr=(d1['regrets_h6'].mean(0) / math.sqrt(d1['regrets_h6'].shape[0])), color=palette[1], linestyle='--',  marker='o')\n",
    "    \n",
    "    plt.scatter(np.arange(1) + 1 -0.1, d2['regrets_h1'].mean(0), alpha=0.7,  marker='s', color=palette[2])\n",
    "    plt.errorbar(np.arange(1) + 1-0.1, d2['regrets_h1'].mean(0), alpha=0.7, yerr=(d2['regrets_h1'].mean(0) / math.sqrt(d2['regrets_h1'].shape[0])), color=palette[2])\n",
    "    plt.errorbar(np.arange(6) + 1-0.1, d2['regrets_h6'].mean(0), alpha=0.7, yerr=(d2['regrets_h6'].mean(0) / math.sqrt(d2['regrets_h6'].shape[0])), color=palette[2], linestyle='--',  marker='o')\n",
    "    \n",
    "    plt.scatter(np.arange(1) + 1 -0.1, d3['regrets_h1'].mean(0), alpha=0.7,  marker='s', color=palette[3])\n",
    "    plt.errorbar(np.arange(1) + 1-0.1, d3['regrets_h1'].mean(0), alpha=0.7, yerr=(d3['regrets_h1'].mean(0) / math.sqrt(d3['regrets_h1'].shape[0])), color=palette[3])\n",
    "    plt.errorbar(np.arange(6) + 1-0.1, d3['regrets_h6'].mean(0), alpha=0.7, yerr=(d3['regrets_h6'].mean(0) / math.sqrt(d3['regrets_h6'].shape[0])), color=palette[3], linestyle='--',  marker='o')\n",
    "\n",
    "    plt.scatter(np.arange(1) + 1 +0.1, human_regrets_h1.mean(0), alpha=0.7, marker='s', color='black')\n",
    "    plt.errorbar(np.arange(1) + 1 +0.1, human_regrets_h1.mean(0), alpha=0.7, yerr=(human_regrets_h1.mean(0) / math.sqrt(human_regrets_h1.shape[0])), color='black')\n",
    "    plt.errorbar(np.arange(6) + 1 + 0.1, human_regrets_h6.mean(0), alpha=0.7, yerr=(human_regrets_h6.mean(0) / math.sqrt(human_regrets_h6.shape[0])), color='black', linestyle='-', marker='o')\n",
    "\n",
    "    plt.text(1.0, random_regrets_h6.mean() - 0.35, 'random', color='C3', alpha=0.7, size=10)\n",
    "    plt.ylabel('Mean regret')\n",
    "\n",
    "    plt.xlim(0.75, 6.25)\n",
    "    plt.xlabel('Trials')\n",
    "    plt.ylim(1, random_regrets_h6.mean() + 0.2)\n",
    "    plt.savefig('FILENAME_OF_PLOT.pdf', bbox_inches='tight')\n",
    "    plt.show()\n",
    "\n",
    "    return"
   ]
  },
  {
   "cell_type": "code",
   "execution_count": null,
   "metadata": {},
   "outputs": [],
   "source": [
    "plot_data_multi(d1,d2,d3,human_data, temp_custom_lines)"
   ]
  },
  {
   "cell_type": "code",
   "execution_count": null,
   "metadata": {},
   "outputs": [],
   "source": []
  },
  {
   "attachments": {},
   "cell_type": "markdown",
   "metadata": {},
   "source": [
    "Plots for COT variations"
   ]
  },
  {
   "cell_type": "code",
   "execution_count": null,
   "metadata": {},
   "outputs": [],
   "source": [
    "CoT_custom_lines = [Line2D([0], [0], color='black', marker='s', linestyle='None'),\n",
    "    Line2D([0], [0], color='black', linestyle='--'),\n",
    "    Line2D([0], [0], color='black',  linestyle='-'), # humans\n",
    "    Line2D([0], [0], color=palette[1], linestyle='-'), # line 1 Without CoT\n",
    "    Line2D([0], [0], color=palette[2], linestyle='-'), # line 2 Quasi CoT\n",
    "    Line2D([0], [0], color=palette[3], linestyle='-')] # line 3 CoT"
   ]
  },
  {
   "cell_type": "code",
   "execution_count": 12,
   "metadata": {},
   "outputs": [],
   "source": [
    "def plot_data_multi(d1, d2, d3, h,temp_custom_lines):\n",
    "    plt.rcParams[\"figure.figsize\"] = (3.46327,3.7)\n",
    "    custom_lines = temp_custom_lines\n",
    "    random_regrets_h6 = d1['random_regrets_h6']\n",
    "    human_regrets_h1 = h['human_regrets_h1']\n",
    "    human_regrets_h6 = h['human_regrets_h6']\n",
    "    plt.axhline(y=random_regrets_h6.mean(), color='C3', linestyle='--', alpha=0.7)\n",
    "    \n",
    "    plt.scatter(np.arange(1) + 1 -0.1, d1['regrets_h1'].mean(0), alpha=0.7,  marker='s', color=palette[1])\n",
    "    plt.errorbar(np.arange(1) + 1-0.1, d1['regrets_h1'].mean(0), alpha=0.7, yerr=(d1['regrets_h1'].mean(0) / math.sqrt(d1['regrets_h1'].shape[0])), color=palette[1])\n",
    "    plt.errorbar(np.arange(6) + 1-0.1, d1['regrets_h6'].mean(0), alpha=0.7, yerr=(d1['regrets_h6'].mean(0) / math.sqrt(d1['regrets_h6'].shape[0])), color=palette[1], linestyle='--',  marker='o')\n",
    "    \n",
    "    plt.scatter(np.arange(1) + 1 -0.1, d2['regrets_h1'].mean(0), alpha=0.7,  marker='s', color=palette[2])\n",
    "    plt.errorbar(np.arange(1) + 1-0.1, d2['regrets_h1'].mean(0), alpha=0.7, yerr=(d2['regrets_h1'].mean(0) / math.sqrt(d2['regrets_h1'].shape[0])), color=palette[2])\n",
    "    plt.errorbar(np.arange(6) + 1-0.1, d2['regrets_h6'].mean(0), alpha=0.7, yerr=(d2['regrets_h6'].mean(0) / math.sqrt(d2['regrets_h6'].shape[0])), color=palette[2], linestyle='--',  marker='o')\n",
    "    \n",
    "    plt.scatter(np.arange(1) + 1 -0.1, d3['regrets_h1'].mean(0), alpha=0.7,  marker='s', color=palette[3])\n",
    "    plt.errorbar(np.arange(1) + 1-0.1, d3['regrets_h1'].mean(0), alpha=0.7, yerr=(d3['regrets_h1'].mean(0) / math.sqrt(d3['regrets_h1'].shape[0])), color=palette[3])\n",
    "    plt.errorbar(np.arange(6) + 1-0.1, d3['regrets_h6'].mean(0), alpha=0.7, yerr=(d3['regrets_h6'].mean(0) / math.sqrt(d3['regrets_h6'].shape[0])), color=palette[3], linestyle='--',  marker='o')\n",
    "\n",
    "    plt.scatter(np.arange(1) + 1 +0.1, human_regrets_h1.mean(0), alpha=0.7, marker='s', color='black')\n",
    "    plt.errorbar(np.arange(1) + 1 +0.1, human_regrets_h1.mean(0), alpha=0.7, yerr=(human_regrets_h1.mean(0) / math.sqrt(human_regrets_h1.shape[0])), color='black')\n",
    "    plt.errorbar(np.arange(6) + 1 + 0.1, human_regrets_h6.mean(0), alpha=0.7, yerr=(human_regrets_h6.mean(0) / math.sqrt(human_regrets_h6.shape[0])), color='black', linestyle='-', marker='o')\n",
    "\n",
    "    plt.text(1.0, random_regrets_h6.mean() - 0.35, 'random', color='C3', alpha=0.7, size=10)\n",
    "    plt.ylabel('Mean regret')\n",
    "\n",
    "    plt.xlim(0.75, 6.25)\n",
    "    plt.xlabel('Trials')\n",
    "    plt.ylim(0, random_regrets_h6.mean() + 0.2)\n",
    "    plt.savefig('final_figures_3/davinci-003_CoT_variations_1.pdf', bbox_inches='tight')\n",
    "    plt.show()\n",
    "\n",
    "    return"
   ]
  },
  {
   "cell_type": "code",
   "execution_count": null,
   "metadata": {},
   "outputs": [],
   "source": [
    "# davinci-002\n",
    "# sample path -- text-davinci-002/.../e*\n",
    "d1 = get_data(\"PATH TO FILES WITHOUT CoT\")\n",
    "d2 = get_data(\"PATH TO FILES WITH QUASI-CoT\")\n",
    "d3 = get_data(\"PATH TO FILES WITH CoT\")"
   ]
  },
  {
   "cell_type": "code",
   "execution_count": null,
   "metadata": {},
   "outputs": [],
   "source": [
    "plot_data_multi(d1,d2,d2, human_data, CoT_custom_lines)"
   ]
  },
  {
   "attachments": {},
   "cell_type": "markdown",
   "metadata": {},
   "source": [
    "CoT With Hints"
   ]
  },
  {
   "cell_type": "code",
   "execution_count": null,
   "metadata": {},
   "outputs": [],
   "source": [
    "def plot_data_multi(d1, d2, d3, d4, h,temp_custom_lines):\n",
    "    plt.rcParams[\"figure.figsize\"] = (3.75,4.5)\n",
    "    custom_lines = temp_custom_lines\n",
    "    random_regrets_h6 = d1['random_regrets_h6']\n",
    "    human_regrets_h1 = h['human_regrets_h1']\n",
    "    human_regrets_h6 = h['human_regrets_h6']\n",
    "    plt.axhline(y=random_regrets_h6.mean(), color='C3', linestyle='--', alpha=0.7)\n",
    "    \n",
    "    plt.scatter(np.arange(1) + 1 -0.1, d1['regrets_h1'].mean(0), alpha=0.7,  marker='s', color=palette[1])\n",
    "    plt.errorbar(np.arange(1) + 1-0.1, d1['regrets_h1'].mean(0), alpha=0.7, yerr=(d1['regrets_h1'].mean(0) / math.sqrt(d1['regrets_h1'].shape[0])), color=palette[1])\n",
    "    plt.errorbar(np.arange(6) + 1-0.1, d1['regrets_h6'].mean(0), alpha=0.7, yerr=(d1['regrets_h6'].mean(0) / math.sqrt(d1['regrets_h6'].shape[0])), color=palette[1], linestyle='--',  marker='o')\n",
    "    \n",
    "    plt.scatter(np.arange(1) + 1 -0.1, d2['regrets_h1'].mean(0), alpha=0.7,  marker='s', color=palette[2])\n",
    "    plt.errorbar(np.arange(1) + 1-0.1, d2['regrets_h1'].mean(0), alpha=0.7, yerr=(d2['regrets_h1'].mean(0) / math.sqrt(d2['regrets_h1'].shape[0])), color=palette[2])\n",
    "    plt.errorbar(np.arange(6) + 1-0.1, d2['regrets_h6'].mean(0), alpha=0.7, yerr=(d2['regrets_h6'].mean(0) / math.sqrt(d2['regrets_h6'].shape[0])), color=palette[2], linestyle='--',  marker='o')\n",
    "    \n",
    "    plt.scatter(np.arange(1) + 1 -0.1, d3['regrets_h1'].mean(0), alpha=0.7,  marker='s', color=palette[3])\n",
    "    plt.errorbar(np.arange(1) + 1-0.1, d3['regrets_h1'].mean(0), alpha=0.7, yerr=(d3['regrets_h1'].mean(0) / math.sqrt(d3['regrets_h1'].shape[0])), color=palette[3])\n",
    "    plt.errorbar(np.arange(6) + 1-0.1, d3['regrets_h6'].mean(0), alpha=0.7, yerr=(d3['regrets_h6'].mean(0) / math.sqrt(d3['regrets_h6'].shape[0])), color=palette[3], linestyle='--',  marker='o')\n",
    "\n",
    "    plt.scatter(np.arange(1) + 1 -0.1, d4['regrets_h1'].mean(0), alpha=0.7,  marker='s', color=palette[4])\n",
    "    plt.errorbar(np.arange(1) + 1-0.1, d4['regrets_h1'].mean(0), alpha=0.7, yerr=(d4['regrets_h1'].mean(0) / math.sqrt(d4['regrets_h1'].shape[0])), color=palette[4])\n",
    "    plt.errorbar(np.arange(6) + 1-0.1, d4['regrets_h6'].mean(0), alpha=0.7, yerr=(d4['regrets_h6'].mean(0) / math.sqrt(d4['regrets_h6'].shape[0])), color=palette[4], linestyle='--',  marker='o')\n",
    "\n",
    "    plt.scatter(np.arange(1) + 1 +0.1, human_regrets_h1.mean(0), alpha=0.7, marker='s', color='black')\n",
    "    plt.errorbar(np.arange(1) + 1 +0.1, human_regrets_h1.mean(0), alpha=0.7, yerr=(human_regrets_h1.mean(0) / math.sqrt(human_regrets_h1.shape[0])), color='black')\n",
    "    plt.errorbar(np.arange(6) + 1 + 0.1, human_regrets_h6.mean(0), alpha=0.7, yerr=(human_regrets_h6.mean(0) / math.sqrt(human_regrets_h6.shape[0])), color='black', linestyle='-', marker='o')\n",
    "\n",
    "    plt.text(5.0, random_regrets_h6.mean() - 0.55, 'random', color='C3', alpha=0.7, size=10)\n",
    "    plt.ylabel('Mean regret')\n",
    "\n",
    "    plt.xlim(0.75, 6.25)\n",
    "    plt.xlabel('Trials')\n",
    "    plt.ylim(0, 11)\n",
    "    plt.legend(custom_lines, ['Horizon 1', 'Horizon 6', 'Humans', 'Quasi CoT', 'CoT', 'CoT-Exploit', 'CoT-Explore'], frameon=False, bbox_to_anchor=(0.0,1.02,1,0.2), loc=\"lower left\",  borderaxespad=0, ncol=2, handlelength=1.5, handletextpad=0.5, mode='expand')\n",
    "    plt.savefig('final_figures_3/gpt-3.5-turbo_CoT_Hints.pdf', bbox_inches='tight')\n",
    "    plt.show()\n",
    "\n",
    "    return"
   ]
  },
  {
   "cell_type": "code",
   "execution_count": null,
   "metadata": {},
   "outputs": [],
   "source": [
    "CoT_hints_custom_lines = [Line2D([0], [0], color='black', marker='s', linestyle='None'),\n",
    "    Line2D([0], [0], color='black', linestyle='--'),\n",
    "    Line2D([0], [0], color='black',  linestyle='-'), # humans\n",
    "    Line2D([0], [0], color=palette[1], linestyle='-'), # line 2 Quasi CoT\n",
    "    Line2D([0], [0], color=palette[2], linestyle='-'), # line 3 CoT\n",
    "    Line2D([0], [0], color=palette[3], linestyle='-'), # CoT with Exploit\n",
    "    Line2D([0], [0], color=palette[4], linestyle='-')] # CoT with Explore\n"
   ]
  },
  {
   "cell_type": "code",
   "execution_count": null,
   "metadata": {},
   "outputs": [],
   "source": [
    "# turbo 3.5\n",
    "quasi_cot = get_data(\"PATH TO FILES WITH QUASI-COT\")\n",
    "cot = get_data(\"PATH TO FILES WITH COT\")\n",
    "cot_exploit = get_data(\"PATH TO FILES WITH COT-EXPLOIT\")\n",
    "cot_explore = get_data(\"PATH TO FILES WITH COT-EXPLORE\")"
   ]
  },
  {
   "cell_type": "code",
   "execution_count": null,
   "metadata": {},
   "outputs": [],
   "source": [
    "# gpt-3.5-turbo\n",
    "plot_data_multi(quasi_cot, cot, cot_exploit, cot_explore, human_data, CoT_hints_custom_lines)"
   ]
  },
  {
   "cell_type": "code",
   "execution_count": null,
   "metadata": {},
   "outputs": [],
   "source": []
  }
 ],
 "metadata": {
  "kernelspec": {
   "display_name": "env",
   "language": "python",
   "name": "python3"
  },
  "language_info": {
   "codemirror_mode": {
    "name": "ipython",
    "version": 3
   },
   "file_extension": ".py",
   "mimetype": "text/x-python",
   "name": "python",
   "nbconvert_exporter": "python",
   "pygments_lexer": "ipython3",
   "version": "3.9.7"
  },
  "orig_nbformat": 4
 },
 "nbformat": 4,
 "nbformat_minor": 2
}
